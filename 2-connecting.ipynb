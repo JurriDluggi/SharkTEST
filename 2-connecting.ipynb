{
 "cells": [
  {
   "cell_type": "markdown",
   "metadata": {},
   "source": [
    "# Connecting to the microscope"
   ]
  },
  {
   "cell_type": "markdown",
   "metadata": {},
   "source": [
    "As the SharkSEM is a TCP/IP protocol, the first step after loading the libraries is to establish the connection. \n",
    "The SharkSEM host is built in the main control software of the microscope and listens at port 8300 by deafult. \n",
    "\n",
    "<em>WARRNING: It is not recommended to start doing any tests on a real microscope until the script is debugged. \n",
    "    For the first steps with scripting it is strongly recommended to work with SEM demo software!! </em>"
   ]
  },
  {
   "cell_type": "markdown",
   "metadata": {},
   "source": [
    "Use the same as in the previous lesson <a href=\"1-loadinglibs\">Loading libraries</a>:"
   ]
  },
  {
   "cell_type": "code",
   "execution_count": 1,
   "metadata": {
    "collapsed": false
   },
   "outputs": [],
   "source": [
    "#importing the system libraries\n",
    "import os, sys\n",
    "#adding the SharkSEM folder to the python search path\n",
    "shark_dir = os.path.abspath(\"./SharkSEM\")\n",
    "sys.path.append(shark_dir)\n",
    "\n",
    "#importing the library of SEM control functions\n",
    "from sem import Sem\n",
    "\n"
   ]
  },
  {
   "cell_type": "markdown",
   "metadata": {},
   "source": [
    "## Creating connection to the microscope:"
   ]
  },
  {
   "cell_type": "markdown",
   "metadata": {},
   "source": [
    "The SharkSEM is a standard TCP/IP protocol listening on the port 8300 on the IP address of your SEM PC."
   ]
  },
  {
   "cell_type": "code",
   "execution_count": 2,
   "metadata": {
    "collapsed": false
   },
   "outputs": [
    {
     "name": "stdout",
     "output_type": "stream",
     "text": [
      "SEM connected at localhost:8300!\n"
     ]
    }
   ],
   "source": [
    "#creating a new instance of the Sem classs\n",
    "mySEM = Sem()\n",
    "#define the IP address of the SEM\n",
    "sem_ip=\"localhost\"\n",
    "#connecting to the microscope via SharkSEM protocol\n",
    "res = mySEM.Connect(sem_ip, 8300)\n",
    "#handling the output\n",
    "if res < 0:\n",
    "    raise Error(\"Unable to connect SEM/FIB at %s:8300\"%(sem_ip))\n",
    "else:\n",
    "    print(\"SEM connected at %s:8300!\"%(sem_ip))\n",
    "        "
   ]
  },
  {
   "cell_type": "markdown",
   "metadata": {},
   "source": [
    "If connected we can start with calling the SharkSEM functions"
   ]
  },
  {
   "cell_type": "markdown",
   "metadata": {},
   "source": [
    "## How to get or set parameters from the SEM?"
   ]
  },
  {
   "cell_type": "markdown",
   "metadata": {},
   "source": [
    "Printing the SEM working distance (WD):"
   ]
  },
  {
   "cell_type": "code",
   "execution_count": 3,
   "metadata": {
    "collapsed": false
   },
   "outputs": [
    {
     "name": "stdout",
     "output_type": "stream",
     "text": [
      "WD = 10 mm\n"
     ]
    }
   ],
   "source": [
    "wd=mySEM.GetWD()\n",
    "print(\"WD = %i mm\"% wd)\n"
   ]
  },
  {
   "cell_type": "markdown",
   "metadata": {},
   "source": [
    "Now we want to change the WD to 10 mm."
   ]
  },
  {
   "cell_type": "code",
   "execution_count": 4,
   "metadata": {
    "collapsed": false
   },
   "outputs": [
    {
     "ename": "NameError",
     "evalue": "name 'mySEM' is not defined",
     "output_type": "error",
     "traceback": [
      "\u001b[1;31m---------------------------------------------------------------------------\u001b[0m",
      "\u001b[1;31mNameError\u001b[0m                                 Traceback (most recent call last)",
      "\u001b[1;32m<ipython-input-4-96891c6eabf9>\u001b[0m in \u001b[0;36m<module>\u001b[1;34m()\u001b[0m\n\u001b[1;32m----> 1\u001b[1;33m \u001b[0mmySEM\u001b[0m\u001b[1;33m.\u001b[0m\u001b[0mSetWD\u001b[0m\u001b[1;33m(\u001b[0m\u001b[1;36m10\u001b[0m\u001b[1;33m)\u001b[0m\u001b[1;33m\u001b[0m\u001b[0m\n\u001b[0m\u001b[0;32m      2\u001b[0m \u001b[0mprint\u001b[0m\u001b[1;33m(\u001b[0m\u001b[1;34m\"Changing the WD to 10 mm ...\"\u001b[0m\u001b[1;33m)\u001b[0m\u001b[1;33m\u001b[0m\u001b[0m\n",
      "\u001b[1;31mNameError\u001b[0m: name 'mySEM' is not defined"
     ]
    }
   ],
   "source": [
    "mySEM.SetWD(10)\n",
    "print(\"Changing the WD to 10 mm ...\")"
   ]
  },
  {
   "cell_type": "markdown",
   "metadata": {},
   "source": [
    "Now the WD should be now 10 mm, let's check it:"
   ]
  },
  {
   "cell_type": "code",
   "execution_count": 5,
   "metadata": {
    "collapsed": false
   },
   "outputs": [
    {
     "name": "stdout",
     "output_type": "stream",
     "text": [
      "WD = 10 mm\n"
     ]
    }
   ],
   "source": [
    "\n",
    "print(\"WD = %i mm\"% mySEM.GetWD())"
   ]
  },
  {
   "cell_type": "code",
   "execution_count": 6,
   "metadata": {
    "collapsed": false
   },
   "outputs": [
    {
     "name": "stdout",
     "output_type": "stream",
     "text": [
      "Vacuum Ready\n"
     ]
    }
   ],
   "source": [
    "vac=mySEM.VacGetStatus()\n",
    "if vac==0:\n",
    "    print(\"Vacuum Ready\")\n",
    "else: raise Error(\"Vaccum Not Ready\")\n",
    "    "
   ]
  },
  {
   "cell_type": "markdown",
   "metadata": {},
   "source": [
    "## Ready? Action! - Calling the control functions"
   ]
  },
  {
   "cell_type": "markdown",
   "metadata": {},
   "source": [
    "#### 1. Turn on the beam\n",
    "\n",
    "The <em>HVBeamOn</em> function does exactly the same function as the Beam On button in the software.\n",
    "\n",
    "<img src=\"/files/images/HVBeamOn.png\"/>"
   ]
  },
  {
   "cell_type": "code",
   "execution_count": 9,
   "metadata": {
    "collapsed": false
   },
   "outputs": [],
   "source": [
    "mySEM.HVBeamOn()"
   ]
  },
  {
   "cell_type": "markdown",
   "metadata": {},
   "source": []
  },
  {
   "cell_type": "code",
   "execution_count": 8,
   "metadata": {
    "collapsed": false
   },
   "outputs": [],
   "source": [
    "mySEM.HVBeamOff()"
   ]
  },
  {
   "cell_type": "code",
   "execution_count": 7,
   "metadata": {
    "collapsed": false
   },
   "outputs": [],
   "source": []
  }
 ],
 "metadata": {
  "kernelspec": {
   "display_name": "Python 3",
   "language": "python",
   "name": "python3"
  },
  "language_info": {
   "codemirror_mode": {
    "name": "ipython",
    "version": 3
   },
   "file_extension": ".py",
   "mimetype": "text/x-python",
   "name": "python",
   "nbconvert_exporter": "python",
   "pygments_lexer": "ipython3",
   "version": "3.4.3"
  }
 },
 "nbformat": 4,
 "nbformat_minor": 0
}
