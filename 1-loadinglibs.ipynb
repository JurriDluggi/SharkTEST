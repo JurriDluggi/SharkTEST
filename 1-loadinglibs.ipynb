{
 "cells": [
  {
   "cell_type": "markdown",
   "metadata": {},
   "source": [
    "# Loading the SharkSEM Python Libraries"
   ]
  },
  {
   "cell_type": "markdown",
   "metadata": {},
   "source": [
    "The Python scripting libraries are built upon the SharkSEM remote control.\n",
    "\n",
    "The SharkSEM is a general purpose TCP/IP based communication protocol for remote control of TESCAN SEMs and FIB-SEMs.\n",
    "The complete SharkSEM protocol documentation can be found <a href=\"/tree/SharkSEM/doc\">here</a>.\n",
    "\n",
    "\n",
    "There are several Python libraries/modules in the SharkSEM folder:\n",
    "<ul><li><i>sem.py</i> - contains most of the SEM control functions, including stage and vacuum control.</li>\n",
    "<li><i>fib_sem.py</i> - contains the FIB and GIS control functions for the TESCAN FIB-SEM systems.</li>\n",
    "</ul>\n"
   ]
  },
  {
   "cell_type": "code",
   "execution_count": 1,
   "metadata": {
    "collapsed": false
   },
   "outputs": [],
   "source": [
    "#importing the system libraries\n",
    "import os, sys\n",
    "#adding the SharkSEM folder to the python search path\n",
    "shark_dir = os.path.abspath(\"./SharkSEM\")\n",
    "sys.path.append(shark_dir)\n",
    "\n",
    "\n"
   ]
  },
  {
   "cell_type": "markdown",
   "metadata": {},
   "source": [
    "The sem.py module contains the Sem class with SEM control functions definitions"
   ]
  },
  {
   "cell_type": "code",
   "execution_count": 2,
   "metadata": {
    "collapsed": false
   },
   "outputs": [],
   "source": [
    "#importing the library of SEM control functions\n",
    "from sem import Sem"
   ]
  },
  {
   "cell_type": "markdown",
   "metadata": {},
   "source": [
    "### Listing the available functions\n",
    "To see the list of the available functions and their documentation for the SEM just type in:"
   ]
  },
  {
   "cell_type": "code",
   "execution_count": 3,
   "metadata": {
    "collapsed": false
   },
   "outputs": [
    {
     "name": "stdout",
     "output_type": "stream",
     "text": [
      "['ALCamFetch', 'ALCamStart', 'ALDropSample', 'ALGetConfig', 'ALGetStatus', 'ALIsInstalled', 'ALIsManEnabled', 'ALManualEnable', 'ALPickNext', 'ALSelectSamples', 'ALSwapSamples', 'Arl2Calibrate', 'Arl2GetStatus', 'Arl2Load', 'Arl2MoveStop', 'Arl2Pump', 'Arl2Recovery', 'Arl2Unload', 'Arl2Vent', 'ArlCloseValve', 'ArlGetStatus', 'ArlGetType', 'ArlOpenValve', 'ArlPump', 'ArlVent', 'AutoColumn', 'AutoGun', 'AutoWD', 'CameraDisable', 'CameraEnable', 'CameraGetStatus', 'ChamberLed', 'Connect', 'DbgDegaussEx', 'DbgFibConGet', 'DbgFibConSet', 'DbgFibObjGet', 'DbgFibObjSet', 'DbgFibTrcInfo', 'DbgGetLensCurr', 'DbgGetOptPar', 'DbgScScanMap', 'DbgSetLensCurr', 'Degauss', 'Delay', 'Disconnect', 'DrwEstimateTime', 'DrwGetConfig', 'DrwGetStatus', 'DrwLoadLayer', 'DrwPause', 'DrwResume', 'DrwStart', 'DrwStop', 'DrwUnloadLayer', 'DtAutoSignal', 'DtEnable', 'DtEnumDetectors', 'DtGetChannels', 'DtGetEnabled', 'DtGetGainBlack', 'DtGetSelected', 'DtSelect', 'DtSetGainBlack', 'EnumCenterings', 'EnumGeometries', 'EnumPCIndexes', 'FetchCameraImage', 'FetchImage', 'FetchImageEx', 'GISEnumLines', 'GISEnumUnits', 'GISLineCloseAll', 'GISLineGetPos', 'GISLineGetTemp', 'GISLineGetValve', 'GISLineOutgas', 'GISLineSetPos', 'GISLineSetTemp', 'GISLineSetValve', 'GISUnitCalib', 'GISUnitIsCalib', 'GISUnitRetrAll', 'GUIGetScanning', 'GUISetScanning', 'Get3DBeam', 'GetBeamCurrent', 'GetCentering', 'GetDeviceParams', 'GetGeometry', 'GetIAbsorbed', 'GetImageShift', 'GetPCContinual', 'GetPCFine', 'GetPCIndex', 'GetSpotSize', 'GetUPSStatus', 'GetViewField', 'GetWD', 'HVAutoHeat', 'HVBeamOff', 'HVBeamOn', 'HVEnumIndexes', 'HVGetBeam', 'HVGetEmission', 'HVGetFilTime', 'HVGetHeating', 'HVGetIndex', 'HVGetVoltage', 'HVSetIndex', 'HVSetVoltage', 'HVStopAsyncProc', 'IsBusy', 'IsLicenseValid', 'ManipGetConfig', 'ManipGetCount', 'ManipGetCurr', 'ManipSetCurr', 'NGuardGetStatus', 'NGuardLock', 'NGuardTest', 'NGuardUnlock', 'NoseCalibrate', 'NoseGetConfig', 'NoseGetPosition', 'NoseIsBusy', 'NoseIsCalib', 'NoseMoveToMem', 'NoseMoveToPos', 'NoseStop', 'PowerStateEnum', 'PowerStateGet', 'PowerStateSet', 'PresetEnum', 'PresetSet', 'ProgressHide', 'ProgressPerc', 'ProgressShow', 'ProgressText', 'RCAFinish', 'RCAGetDACRange', 'RCAInit', 'RCANextParticle', 'RCASetCbMask', 'RCASetOption', 'RCASkipParticle', 'SMEnumModes', 'SMGetMode', 'SMSetMode', 'ScEnumSpeeds', 'ScGetBlanker', 'ScGetExternal', 'ScGetSpeed', 'ScLUTParGet', 'ScLUTParSet', 'ScLUTSrcGet', 'ScLUTSrcSet', 'ScReadImageADC', 'ScScanEDXLine', 'ScScanEDXMap', 'ScScanEDXPart', 'ScScanEDXXY', 'ScScanLine', 'ScScanXY', 'ScSetBeamPos', 'ScSetBeamPosGSR', 'ScSetBlanker', 'ScSetExternal', 'ScSetSpeed', 'ScStopScan', 'Set3DBeam', 'SetBeamCurrent', 'SetCentering', 'SetGeometry', 'SetImageShift', 'SetPCContinual', 'SetPCIndex', 'SetViewField', 'SetWD', 'SetWaitFlags', 'SmplEnum', 'SmplGetCount', 'SmplGetHldrName', 'SmplGetId', 'SmplGetLabel', 'SmplGetPosition', 'SmplGetShape', 'SmplGetType', 'SmplSetLabel', 'StgCalibrate', 'StgGetPosition', 'StgIsBusy', 'StgIsCalibrated', 'StgMove', 'StgMoveTo', 'StgStop', 'TcpGetDevice', 'TcpGetSWVersion', 'TcpGetVersion', 'VacGetPressure', 'VacGetStatus', 'VacGetVPMode', 'VacGetVPPress', 'VacPump', 'VacSetVPMode', 'VacSetVPPress', 'VacVent', '_CArrayByte', '_CArrayInt', '_CArrayUnsigned', '_CFloat', '_CInt', '_CString', '_CUnsigned', '__class__', '__delattr__', '__dict__', '__dir__', '__doc__', '__eq__', '__format__', '__ge__', '__getattribute__', '__gt__', '__hash__', '__init__', '__le__', '__lt__', '__module__', '__ne__', '__new__', '__qualname__', '__reduce__', '__reduce_ex__', '__repr__', '__setattr__', '__sizeof__', '__str__', '__subclasshook__', '__weakref__']\n"
     ]
    }
   ],
   "source": [
    "print(dir(Sem))"
   ]
  },
  {
   "cell_type": "markdown",
   "metadata": {},
   "source": [
    "The Python funcions are self-documenting, to get documentation to any function type in:"
   ]
  },
  {
   "cell_type": "code",
   "execution_count": 4,
   "metadata": {
    "collapsed": false
   },
   "outputs": [
    {
     "name": "stdout",
     "output_type": "stream",
     "text": [
      "Help on function SetWaitFlags in module sem:\n",
      "\n",
      "SetWaitFlags(self, flags)\n",
      "    Set wait condition \n",
      "    \n",
      "    SharkSEM request header contains set of flags, which specify \n",
      "    conditions to execute the request.\n",
      "    \n",
      "    bit 0       Wait A (SEM scanning)\n",
      "    bit 1       Wait B (SEM stage)\n",
      "    bit 2       Wait C (SEM optics)\n",
      "    bit 3       Wait D (SEM automatic procedure)\n",
      "    bit 4       Wait E (FIB scanning)\n",
      "    bit 5       Wait F (FIB optics)\n",
      "    bit 6       Wait G (FIB automatic procedure)\n",
      "\n"
     ]
    }
   ],
   "source": [
    "help(Sem.SetWaitFlags)"
   ]
  },
  {
   "cell_type": "markdown",
   "metadata": {},
   "source": [
    "<u>Note:</u> self - means calling the Sem class instance as a parameter "
   ]
  },
  {
   "cell_type": "markdown",
   "metadata": {
    "collapsed": false
   },
   "source": [
    "<a href=\"2-connecting.ipynb\">Next Topic- Connecting to the microscope.</a>"
   ]
  },
  {
   "cell_type": "code",
   "execution_count": null,
   "metadata": {
    "collapsed": false
   },
   "outputs": [],
   "source": []
  }
 ],
 "metadata": {
  "kernelspec": {
   "display_name": "Python 3",
   "language": "python",
   "name": "python3"
  },
  "language_info": {
   "codemirror_mode": {
    "name": "ipython",
    "version": 3
   },
   "file_extension": ".py",
   "mimetype": "text/x-python",
   "name": "python",
   "nbconvert_exporter": "python",
   "pygments_lexer": "ipython3",
   "version": "3.3.0"
  }
 },
 "nbformat": 4,
 "nbformat_minor": 0
}
