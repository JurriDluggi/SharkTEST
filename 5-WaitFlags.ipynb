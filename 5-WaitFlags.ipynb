{
 "cells": [
  {
   "cell_type": "markdown",
   "metadata": {},
   "source": [
    "<h1>Working With Wait Flags</h1>\n",
    "\n",
    "The wait flags are binary representation of mask where each bit position is one flag 0/1.\n"
   ]
  },
  {
   "cell_type": "markdown",
   "metadata": {},
   "source": [
    "## SetWaitFlags()"
   ]
  },
  {
   "cell_type": "markdown",
   "metadata": {},
   "source": [
    "\n",
    "For the SetWaitFlags function the description is the following:\n",
    "<table>\n",
    "     <tr><th>Position</th><th>Flag</th><th>Wait for </th><th>Value</th><th> hexadecimal</th><th>Binary</th></tr>\n",
    "     <tr><td>bit 0</td><td>Wait A </td><td>SEM Scanning </td><td>2\\*\\*0=1</td><td> 0x1</td><td> 0b1</td></tr>\n",
    "     <tr><td>bit 1</td><td>Wait B </td><td>SEM Stage </td><td>2\\*\\*1=2</td><td> 0x2</td><td> 0b10</td></tr> \n",
    "     <tr><td>bit 2</td><td>Wait C </td><td>SEM Optics </td><td>2\\*\\*2=4</td><td> 0x4</td><td> 0b100</td></tr>\n",
    "     <tr><td>bit 3</td><td>Wait D </td><td>SEM Automatic procedure </td><td>2\\*\\*3=8</td><td> 0x8</td><td> 0b1000</td></tr>\n",
    "     <tr><td>bit 4</td><td>Wait E </td><td>FIB Scanning </td><td>2\\*\\*4=16</td><td> 0x10</td><td> 0b10000</td></tr>\n",
    "     <tr><td>bit 5</td><td>Wait F </td><td>FIB Optics </td><td>2\\*\\*5=32</td><td> 0x20</td><td> 0b100000</td></tr>\n",
    "     <tr><td>bit 6</td><td>Wait G </td><td>FIB Automatic procedure </td><td>2\\*\\*6=64</td><td> 0x40</td><td> 0b1000000</td></tr>\n",
    "\n",
    "</table>\n",
    "\n",
    "Example: Wait Flags set to: Wait for SEM Automated procedures\n",
    "\n",
    "SetWaitFlags(2\\*\\*3)\n",
    " \n",
    "<table>\n",
    "     <tr><th>Position</th><td>Bit 6</td><td>Bit 5 </td><td>Bit 4</td><td> Bit 3</td><td>Bit 2</td> <td>Bit 1</td> <td>Bit 0</td></tr>\n",
    "     <tr><th>Value</th><td>0</td><td>0 </td><td>0</td><td> 1</td><td>0</td> <td>0</td> <td>0</td></tr>\n",
    "</table>\n",
    "\n",
    "<h3>Combining the wait flags</h3>\n",
    "The binary sum of these flags is the waitflag byte which can be represented also as unsigned integer.\n",
    "e.g. set wait flags to wait for all SEM+FIB\n",
    "SetWaitFlags(0x1+0x2+0x4+0x8+0x20+0x40) \n",
    "\n",
    "<table>\n",
    "     <tr><th>Position</th><td>Bit 6</td><td>Bit 5 </td><td>Bit 4</td><td> Bit 3</td><td>Bit 2</td> <td>Bit 1</td> <td>Bit 0</td></tr>\n",
    "     <tr><th>Value</th><td>1</td><td>1 </td><td>1</td><td> 1</td><td>1</td> <td>1</td> <td>1</td></tr>\n",
    "</table>"
   ]
  },
  {
   "cell_type": "markdown",
   "metadata": {},
   "source": [
    "1. Use the same as in the previous lesson <a href=\"1-loadinglibs.ipynb\">Loading libraries</a>:"
   ]
  },
  {
   "cell_type": "code",
   "execution_count": 1,
   "metadata": {
    "collapsed": false
   },
   "outputs": [
    {
     "name": "stdout",
     "output_type": "stream",
     "text": [
      "SEM connected at localhost:8300!\n"
     ]
    }
   ],
   "source": [
    "#importing the system libraries\n",
    "import os, sys, time\n",
    "#adding the SharkSEM folder to the python search path\n",
    "shark_dir = os.path.abspath(\"./SharkSEM\")\n",
    "sys.path.append(shark_dir)\n",
    "\n",
    "#importing the library of SEM control functions\n",
    "from sem import Sem\n",
    "\n",
    "#creating a new instance of the Sem classs\n",
    "mySEM = Sem()\n",
    "\n",
    "#define the IP address of the SEM PC\n",
    "sem_ip=\"localhost\"\n",
    "#sem_ip = input(\"Enter the IP address of the SEM: \")\n",
    "\n",
    "#connecting to the microscope via SharkSEM protocol\n",
    "res = mySEM.Connect(sem_ip, 8300)\n",
    "#handling the output\n",
    "if res < 0:\n",
    "    raise Error(\"Unable to connect SEM/FIB at %s:8300\"%(sem_ip))\n",
    "else:\n",
    "    print(\"SEM connected at %s:8300!\"%(sem_ip))\n"
   ]
  },
  {
   "cell_type": "markdown",
   "metadata": {},
   "source": [
    "Prepare a detector channel"
   ]
  },
  {
   "cell_type": "code",
   "execution_count": 2,
   "metadata": {
    "collapsed": false
   },
   "outputs": [],
   "source": [
    "# even before we configure the detectors\n",
    "mySEM.ScStopScan()\n",
    "\n",
    "# select detector and enable channel\n",
    "mySEM.DtSelect(0, 0)\n",
    "mySEM.DtEnable(0, 1, 8)\n"
   ]
  },
  {
   "cell_type": "code",
   "execution_count": 4,
   "metadata": {
    "collapsed": false
   },
   "outputs": [
    {
     "name": "stdout",
     "output_type": "stream",
     "text": [
      "Wait flags set to wait for scanning 0x1 + wait for automatic procedures 0x8. \n",
      " i.e. The next SharkSEM command function will be called when this one finishes\n",
      "wd:  2.0\n"
     ]
    }
   ],
   "source": [
    "mySEM.SetWaitFlags(2**3+2**0)\n",
    "print(\"Wait flags set to wait for scanning 0x1 + wait for automatic procedures 0x8. \\n i.e. The next SharkSEM command function will be called when this one finishes\")\n",
    "mySEM.AutoWD(0)\n",
    "print('wd: ', mySEM.GetWD())\n"
   ]
  },
  {
   "cell_type": "markdown",
   "metadata": {},
   "source": [
    "## IsBusy Function"
   ]
  },
  {
   "cell_type": "code",
   "execution_count": 6,
   "metadata": {
    "collapsed": false
   },
   "outputs": [
    {
     "name": "stdout",
     "output_type": "stream",
     "text": [
      "Wait flags set to none\n",
      "flag bit 0 int(1) bin(0b1) = 0\n",
      "flag bit 1 int(2) bin(0b10) = 0\n",
      "flag bit 2 int(4) bin(0b100) = 0\n",
      "flag bit 3 int(8) bin(0b1000) = 0\n",
      "flag bit 4 int(16) bin(0b10000) = 0\n",
      "flag bit 5 int(32) bin(0b100000) = 0\n",
      "flag bit 6 int(64) bin(0b1000000) = 0\n",
      "flag bit 7 int(128) bin(0b10000000) = 0\n",
      "flag bit 8 int(256) bin(0b100000000) = 0\n",
      "flag bit 9 int(512) bin(0b1000000000) = 0\n",
      "flag bit 10 int(1024) bin(0b10000000000) = 0\n",
      "flag bit 11 int(2048) bin(0b100000000000) = 1\n",
      "flag bit 12 int(4096) bin(0b1000000000000) = 0\n",
      "flag bit 13 int(8192) bin(0b10000000000000) = 0\n",
      "flag bit 14 int(16384) bin(0b100000000000000) = 0\n",
      "flag bit 15 int(32768) bin(0b1000000000000000) = 0\n",
      "Automatics is running...\n",
      "Automatics is running...\n",
      "Automatics is running...\n",
      "Automatics is running...\n",
      "Automatics is running...\n",
      "Automatics is running...\n",
      "Automatics is running...\n",
      "Automatics is running...\n",
      "Automatics is running...\n",
      "Automatics is running...\n",
      "Automatics is running...\n",
      "Automatics is running...\n",
      "Automatics is running...\n",
      "Automatics is running...\n",
      "wd:  2.0\n"
     ]
    }
   ],
   "source": [
    "mySEM.SetWaitFlags(0)\n",
    "print(\"Wait flags set to none\")\n",
    "mySEM.AutoWD(0)\n",
    "\n",
    "# print all flags\n",
    "for i in range(0,16):\n",
    "\tprint(\"flag bit %i int(%i) bin(%s) = %i\" %(i,2**i,str(bin(2**i)),mySEM.IsBusy(2**i)))\n",
    "    \n",
    "while mySEM.IsBusy(2**11):\n",
    "  print(\"Automatics is running...\")\n",
    "  time.sleep(0.5)\n",
    "print('wd: ', mySEM.GetWD())\n",
    "\n"
   ]
  },
  {
   "cell_type": "code",
   "execution_count": null,
   "metadata": {
    "collapsed": false
   },
   "outputs": [],
   "source": []
  }
 ],
 "metadata": {
  "kernelspec": {
   "display_name": "Python 3",
   "language": "python",
   "name": "python3"
  },
  "language_info": {
   "codemirror_mode": {
    "name": "ipython",
    "version": 3
   },
   "file_extension": ".py",
   "mimetype": "text/x-python",
   "name": "python",
   "nbconvert_exporter": "python",
   "pygments_lexer": "ipython3",
   "version": "3.3.0"
  }
 },
 "nbformat": 4,
 "nbformat_minor": 0
}
