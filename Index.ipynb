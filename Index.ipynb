{
 "cells": [
  {
   "cell_type": "markdown",
   "metadata": {},
   "source": [
    "# Welcome to SharkSEM Python Scripting Tutorial "
   ]
  },
  {
   "cell_type": "markdown",
   "metadata": {},
   "source": [
    "This interactive tutorial will show you the basics of scripting capability of the SharkSEM protocol for TESCAN microscopes.\n",
    "You can use the Python Notebook also for creating your own recepies.\n",
    "\n",
    "This tutorial is not meant to be a Python scripting tutorial in general. It expect at least a basic knowledge of Python 3 scripting language. \n",
    "\n",
    "## Recommended Python documentation available:\n",
    "<ul>\n",
    "<li><a href=\"https://docs.python.org/3/tutorial/\">Official Python 3 Tutorial</a></li>\n",
    "<li><a href=\"http://en.wikibooks.org/wiki/Non-Programmer%27s_Tutorial_for_Python_3\">Non-Programmers Tutorial for Python 3</a></li>\n",
    "<li><a href=\"http://www.diveintopython3.net/\">Dive Into Python 3</a></li>\n",
    "<li><a href=\"http://wiki.scipy.org/NumPy_for_Matlab_Users\">NumPy for MATLAB Users</a></li>\n",
    "<li><a href=\"http://matplotlib.org/1.4.3/gallery.html\">MatPlotLib - MATLAB-like plotting in Python</a></li>\n",
    "<li><a href=\"http://scikit-image.org/docs/0.10.x/auto_examples/index.html\">Image Processing Examples using SciKits Image</a></li>\n",
    "\n",
    "\n",
    "\n",
    "\n",
    "</ul>\n",
    "\n"
   ]
  },
  {
   "cell_type": "markdown",
   "metadata": {},
   "source": [
    "## Interactive SharkSEM Tutorials:"
   ]
  },
  {
   "cell_type": "markdown",
   "metadata": {},
   "source": [
    "<ol> \n",
    "<li><a href=\"1-loadinglibs.ipynb\">Loading the SharkSEM Python libraries, available functions and parameters.</a></li> \n",
    "<li><a href=\"2-connecting.ipynb\">Connecting to the microscope.</a></li>\n",
    "<li><a href=\"3-get_and_set.ipynb\">Reading and changing the parameters of the microscope.</a></li>\n",
    "<li><a href=\"5-WaitFlags.ipynb\">Working with Wait Flags</a></li>\n",
    "<li><a href=\"4-images.ipynb\">Acquiring an image</a></li>\n",
    "<li><a href=\"image_postprocessing.ipynb\">Image postprocessing in Python</a></li>\n",
    "</ol>"
   ]
  }
 ],
 "metadata": {
  "kernelspec": {
   "display_name": "Python 3",
   "language": "python",
   "name": "python3"
  },
  "language_info": {
   "codemirror_mode": {
    "name": "ipython",
    "version": 3
   },
   "file_extension": ".py",
   "mimetype": "text/x-python",
   "name": "python",
   "nbconvert_exporter": "python",
   "pygments_lexer": "ipython3",
   "version": "3.3.0"
  }
 },
 "nbformat": 4,
 "nbformat_minor": 0
}
